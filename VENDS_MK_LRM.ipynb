{
 "cells": [
  {
   "cell_type": "code",
   "execution_count": 16,
   "id": "c96334d1",
   "metadata": {},
   "outputs": [],
   "source": [
    "import pandas as pd\n",
    "import matplotlib.pyplot as plt\n",
    "import numpy as np"
   ]
  },
  {
   "cell_type": "markdown",
   "id": "6d1b91f5",
   "metadata": {},
   "source": [
    "# Responder a pergunta:\n",
    "\n",
    "## \"Vamos investir 75k em marketing, qual deve ser o estoque enviado pra loja?\""
   ]
  },
  {
   "cell_type": "markdown",
   "id": "a4f03f8e",
   "metadata": {},
   "source": [
    "# Importando a base de vendas"
   ]
  },
  {
   "cell_type": "code",
   "execution_count": 17,
   "id": "1012e830",
   "metadata": {},
   "outputs": [],
   "source": [
    "# Importando a base de vendas\n",
    "base = pd.read_excel(\"Investimento_x_Venda.xls\")"
   ]
  },
  {
   "cell_type": "code",
   "execution_count": 18,
   "id": "1c102a1a",
   "metadata": {},
   "outputs": [
    {
     "data": {
      "text/html": [
       "<div>\n",
       "<style scoped>\n",
       "    .dataframe tbody tr th:only-of-type {\n",
       "        vertical-align: middle;\n",
       "    }\n",
       "\n",
       "    .dataframe tbody tr th {\n",
       "        vertical-align: top;\n",
       "    }\n",
       "\n",
       "    .dataframe thead th {\n",
       "        text-align: right;\n",
       "    }\n",
       "</style>\n",
       "<table border=\"1\" class=\"dataframe\">\n",
       "  <thead>\n",
       "    <tr style=\"text-align: right;\">\n",
       "      <th></th>\n",
       "      <th>Investimento em marketing</th>\n",
       "      <th>Venda Qtd</th>\n",
       "    </tr>\n",
       "  </thead>\n",
       "  <tbody>\n",
       "    <tr>\n",
       "      <th>0</th>\n",
       "      <td>20</td>\n",
       "      <td>118</td>\n",
       "    </tr>\n",
       "    <tr>\n",
       "      <th>1</th>\n",
       "      <td>25</td>\n",
       "      <td>142</td>\n",
       "    </tr>\n",
       "    <tr>\n",
       "      <th>2</th>\n",
       "      <td>40</td>\n",
       "      <td>225</td>\n",
       "    </tr>\n",
       "    <tr>\n",
       "      <th>3</th>\n",
       "      <td>52</td>\n",
       "      <td>260</td>\n",
       "    </tr>\n",
       "    <tr>\n",
       "      <th>4</th>\n",
       "      <td>67</td>\n",
       "      <td>295</td>\n",
       "    </tr>\n",
       "  </tbody>\n",
       "</table>\n",
       "</div>"
      ],
      "text/plain": [
       "   Investimento em marketing  Venda Qtd\n",
       "0                         20        118\n",
       "1                         25        142\n",
       "2                         40        225\n",
       "3                         52        260\n",
       "4                         67        295"
      ]
     },
     "execution_count": 18,
     "metadata": {},
     "output_type": "execute_result"
    }
   ],
   "source": [
    "# Exibindo as 5 primeiras linhas\n",
    "base.head()"
   ]
  },
  {
   "cell_type": "code",
   "execution_count": 19,
   "id": "efa020b8",
   "metadata": {},
   "outputs": [
    {
     "data": {
      "image/png": "[encoded data removed]",
      "text/plain": [
       "<Figure size 432x288 with 1 Axes>"
      ]
     },
     "metadata": {
      "needs_background": "light"
     },
     "output_type": "display_data"
    }
   ],
   "source": [
    "# Visualizando de forma gráfica essas informações\n",
    "plt.scatter(base[\"Investimento em marketing\"],base[\"Venda Qtd\"])\n",
    "plt.show()"
   ]
  },
  {
   "cell_type": "markdown",
   "id": "d427f30c",
   "metadata": {},
   "source": [
    "# Traçando uma reta passando por esses pontos"
   ]
  },
  {
   "cell_type": "code",
   "execution_count": 20,
   "id": "8dcbe644",
   "metadata": {},
   "outputs": [
    {
     "data": {
      "image/png": "[encoded data removed]",
      "text/plain": [
       "<Figure size 432x288 with 1 Axes>"
      ]
     },
     "metadata": {
      "needs_background": "light"
     },
     "output_type": "display_data"
    }
   ],
   "source": [
    "plt.scatter(base[\"Investimento em marketing\"],base[\"Venda Qtd\"])\n",
    "x0 = base[\"Investimento em marketing\"][0]\n",
    "y0 = base[\"Venda Qtd\"][0]\n",
    "x1 = base[\"Investimento em marketing\"][6]\n",
    "y1 = base[\"Venda Qtd\"][6]\n",
    "plt.plot([x0,x1],[y0,y1],\"r\")\n",
    "plt.show()"
   ]
  },
  {
   "cell_type": "markdown",
   "id": "3b83d4ec",
   "metadata": {},
   "source": [
    "# Usando a equação da reta para determinar a venda\n",
    "### y = ax + b"
   ]
  },
  {
   "cell_type": "code",
   "execution_count": 21,
   "id": "86575e7a",
   "metadata": {},
   "outputs": [],
   "source": [
    "def EncontraY(x_reta,y_reta,x):\n",
    "    a = (y_reta[1] - y_reta[0])/(x_reta[1] - x_reta[0])\n",
    "    b = y_reta[1] - a*x_reta[1]\n",
    "    y = a*x + b\n",
    "    return y"
   ]
  },
  {
   "cell_type": "code",
   "execution_count": 22,
   "id": "6c1067f7",
   "metadata": {},
   "outputs": [
    {
     "data": {
      "text/plain": [
       "339.8032786885246"
      ]
     },
     "execution_count": 22,
     "metadata": {},
     "output_type": "execute_result"
    }
   ],
   "source": [
    "EncontraY([x0,x1],[y0,y1],75)"
   ]
  },
  {
   "cell_type": "code",
   "execution_count": 23,
   "id": "2f690946",
   "metadata": {},
   "outputs": [
    {
     "data": {
      "image/png": "[encoded data removed]",
      "text/plain": [
       "<Figure size 432x288 with 1 Axes>"
      ]
     },
     "metadata": {
      "needs_background": "light"
     },
     "output_type": "display_data"
    }
   ],
   "source": [
    "plt.scatter(base[\"Investimento em marketing\"],base[\"Venda Qtd\"])\n",
    "plt.scatter(75,EncontraY([x0,x1],[y0,y1],75),color=\"k\")\n",
    "x0 = base[\"Investimento em marketing\"][0]\n",
    "y0 = base[\"Venda Qtd\"][0]\n",
    "x1 = base[\"Investimento em marketing\"][6]\n",
    "y1 = base[\"Venda Qtd\"][6]\n",
    "plt.plot([x0,x1],[y0,y1],\"r\")\n",
    "plt.show()"
   ]
  },
  {
   "cell_type": "markdown",
   "id": "fdba9282",
   "metadata": {},
   "source": [
    "# Descobrindo a venda usando Machine Learning"
   ]
  },
  {
   "cell_type": "code",
   "execution_count": 24,
   "id": "788f7b02",
   "metadata": {},
   "outputs": [],
   "source": [
    "from sklearn import linear_model"
   ]
  },
  {
   "cell_type": "code",
   "execution_count": 25,
   "id": "d2b8a505",
   "metadata": {},
   "outputs": [],
   "source": [
    "reg = linear_model.LinearRegression()"
   ]
  },
  {
   "cell_type": "code",
   "execution_count": 26,
   "id": "4e468393",
   "metadata": {},
   "outputs": [
    {
     "data": {
      "text/plain": [
       "LinearRegression()"
      ]
     },
     "execution_count": 26,
     "metadata": {},
     "output_type": "execute_result"
    }
   ],
   "source": [
    "reg.fit(base[\"Investimento em marketing\"].values.reshape(-1, 1),base[\"Venda Qtd\"])"
   ]
  },
  {
   "cell_type": "code",
   "execution_count": 27,
   "id": "ea4e6aa6",
   "metadata": {},
   "outputs": [
    {
     "data": {
      "text/plain": [
       "array([3.90643623])"
      ]
     },
     "execution_count": 27,
     "metadata": {},
     "output_type": "execute_result"
    }
   ],
   "source": [
    "reg.coef_"
   ]
  },
  {
   "cell_type": "code",
   "execution_count": 28,
   "id": "fcc92963",
   "metadata": {},
   "outputs": [
    {
     "data": {
      "text/plain": [
       "49.200323514387804"
      ]
     },
     "execution_count": 28,
     "metadata": {},
     "output_type": "execute_result"
    }
   ],
   "source": [
    "reg.intercept_"
   ]
  },
  {
   "cell_type": "code",
   "execution_count": 47,
   "id": "e7b9abf2",
   "metadata": {},
   "outputs": [
    {
     "data": {
      "image/png": "[encoded data removed]",
      "text/plain": [
       "<Figure size 432x288 with 1 Axes>"
      ]
     },
     "metadata": {
      "needs_background": "light"
     },
     "output_type": "display_data"
    }
   ],
   "source": [
    "plt.scatter(base[\"Investimento em marketing\"],base[\"Venda Qtd\"])\n",
    "x = np.array(base[\"Investimento em marketing\"])\n",
    "y = reg.intercept_ + x*reg.coef_\n",
    "plt.plot(x,y,\"r\")\n",
    "plt.show()"
   ]
  },
  {
   "cell_type": "code",
   "execution_count": 48,
   "id": "42ff87d7",
   "metadata": {},
   "outputs": [
    {
     "data": {
      "text/plain": [
       "array([342.18304104])"
      ]
     },
     "execution_count": 48,
     "metadata": {},
     "output_type": "execute_result"
    }
   ],
   "source": [
    "reg.predict([[75]])"
   ]
  },
  {
   "cell_type": "code",
   "execution_count": 29,
   "id": "bd6de3d3",
   "metadata": {},
   "outputs": [
    {
     "data": {
      "image/png": "[encoded data removed]",
      "text/plain": [
       "<Figure size 432x288 with 1 Axes>"
      ]
     },
     "metadata": {
      "needs_background": "light"
     },
     "output_type": "display_data"
    }
   ],
   "source": [
    "plt.scatter(base[\"Investimento em marketing\"],base[\"Venda Qtd\"])\n",
    "plt.scatter(75,reg.predict([[75]])[0],color=\"k\")\n",
    "x = np.array(base[\"Investimento em marketing\"])\n",
    "y = reg.intercept_ + x*reg.coef_\n",
    "plt.plot(x,y,\"r\")\n",
    "plt.show()"
   ]
  },
  {
   "cell_type": "code",
   "execution_count": null,
   "id": "21ac295a",
   "metadata": {},
   "outputs": [],
   "source": []
  }
 ],
 "metadata": {
  "kernelspec": {
   "display_name": "Python 3 (ipykernel)",
   "language": "python",
   "name": "python3"
  },
  "language_info": {
   "codemirror_mode": {
    "name": "ipython",
    "version": 3
   },
   "file_extension": ".py",
   "mimetype": "text/x-python",
   "name": "python",
   "nbconvert_exporter": "python",
   "pygments_lexer": "ipython3",
   "version": "3.11.7"
  }
 },
 "nbformat": 4,
 "nbformat_minor": 5
}
